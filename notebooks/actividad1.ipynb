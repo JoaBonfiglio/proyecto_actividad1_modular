{
  "cells": [
    {
      "cell_type": "markdown",
      "metadata": {},
      "source": [
        "# Actividad 1 — Sistema de Evaluación\n",
        "\n",
        "Notebook de ejecución."
      ]
    },
    {
      "cell_type": "code",
      "execution_count": null,
      "metadata": {},
      "outputs": [],
      "source": [
        "from src.evaluacion import (\n",
        "    calcular_puntaje, inicializar_acumulados,\n",
        "    procesar_ronda, tabla_ordenada, imprimir_tabla\n",
        ")\n",
        "\n",
        "evaluaciones = [\n",
        "    {'EquipoA': {'innovacion': 2, 'presentacion': 1, 'errores': True},\n",
        "     'EquipoB': {'innovacion': 1, 'presentacion': 0, 'errores': False},\n",
        "     'EquipoC': {'innovacion': 1, 'presentacion': 2, 'errores': True},\n",
        "     'EquipoD': {'innovacion': 0, 'presentacion': 1, 'errores': False},\n",
        "     'EquipoE': {'innovacion': 1, 'presentacion': 1, 'errores': False}},\n",
        "    {'EquipoA': {'innovacion': 0, 'presentacion': 2, 'errores': False},\n",
        "     'EquipoB': {'innovacion': 2, 'presentacion': 0, 'errores': True},\n",
        "     'EquipoC': {'innovacion': 1, 'presentacion': 1, 'errores': False},\n",
        "     'EquipoD': {'innovacion': 2, 'presentacion': 1, 'errores': True},\n",
        "     'EquipoE': {'innovacion': 0, 'presentacion': 1, 'errores': False}},\n",
        "    {'EquipoA': {'innovacion': 3, 'presentacion': 2, 'errores': False},\n",
        "     'EquipoB': {'innovacion': 1, 'presentacion': 1, 'errores': True},\n",
        "     'EquipoC': {'innovacion': 2, 'presentacion': 0, 'errores': False},\n",
        "     'EquipoD': {'innovacion': 1, 'presentacion': 3, 'errores': True},\n",
        "     'EquipoE': {'innovacion': 2, 'presentacion': 2, 'errores': False}},\n",
        "    {'EquipoA': {'innovacion': 1, 'presentacion': 3, 'errores': True},\n",
        "     'EquipoB': {'innovacion': 2, 'presentacion': 2, 'errores': False},\n",
        "     'EquipoC': {'innovacion': 3, 'presentacion': 1, 'errores': False},\n",
        "     'EquipoD': {'innovacion': 0, 'presentacion': 2, 'errores': True},\n",
        "     'EquipoE': {'innovacion': 2, 'presentacion': 0, 'errores': False}},\n",
        "    {'EquipoA': {'innovacion': 2, 'presentacion': 2, 'errores': False},\n",
        "     'EquipoB': {'innovacion': 1, 'presentacion': 3, 'errores': True},\n",
        "     'EquipoC': {'innovacion': 0, 'presentacion': 2, 'errores': False},\n",
        "     'EquipoD': {'innovacion': 3, 'presentacion': 1, 'errores': False},\n",
        "     'EquipoE': {'innovacion': 2, 'presentacion': 3, 'errores': True}}\n",
        "]\n",
        "\n",
        "acum = inicializar_acumulados(evaluaciones)\n",
        "print(\"Resultados de la Feria de Ciencias - Sistema de Evaluación\\n\")\n",
        "\n",
        "for i, ronda in enumerate(evaluaciones, start=1):\n",
        "    mer_eq, mer_pts, _ = procesar_ronda(ronda, acum)\n",
        "    print(f\"Ronda {i}\")\n",
        "    print(f\"Mejor Equipo de la Ronda: {mer_eq} ({mer_pts} puntos)\\n\")\n",
        "    print(\"Ranking Actualizado\")\n",
        "    imprimir_tabla(acum)\n",
        "    if i < len(evaluaciones):\n",
        "        print(\"\\n\" + \"-\"*70 + f\"\\nRondas restantes: {len(evaluaciones)-i}\\n\")\n",
        "\n",
        "print(\"\\nResultados Finales\")\n",
        "filas = tabla_ordenada(acum)\n",
        "max_total = max(d[\"total\"] for d in acum.values())\n",
        "ganadores = [eq for eq, d in acum.items() if d[\"total\"] == max_total]\n",
        "print(f\"Equipos Ganadores: {', '.join(ganadores)} ({max_total} puntos)\\n\")\n",
        "print(\"Tabla Final de Resultados\")\n",
        "imprimir_tabla(acum)"
      ]
    }
  ],
  "metadata": {
    "kernelspec": {
      "display_name": "Python 3",
      "language": "python",
      "name": "python3"
    },
    "language_info": {
      "name": "python",
      "version": "3.x"
    }
  },
  "nbformat": 4,
  "nbformat_minor": 5
}